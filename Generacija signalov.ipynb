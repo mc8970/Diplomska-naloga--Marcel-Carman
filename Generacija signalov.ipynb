{
 "cells": [
  {
   "cell_type": "markdown",
   "metadata": {},
   "source": [
    "Poleg \"standardnih\" Python paketov za delovanje potrebujete tudi:\n",
    "\n",
    "* [PyDaQMx](https://pypi.org/project/PyDAQmx/)\n",
    "* [pyExSi](https://pypi.org/project/pyExSi/)\n"
   ]
  },
  {
   "cell_type": "markdown",
   "metadata": {},
   "source": [
    "---"
   ]
  },
  {
   "cell_type": "code",
   "execution_count": 4,
   "metadata": {},
   "outputs": [],
   "source": [
    "import numpy as np\n",
    "import matplotlib.pyplot as plt\n",
    "%matplotlib inline"
   ]
  },
  {
   "cell_type": "code",
   "execution_count": 5,
   "metadata": {},
   "outputs": [],
   "source": [
    "%matplotlib inline"
   ]
  },
  {
   "cell_type": "markdown",
   "metadata": {},
   "source": [
    "# Nastavitev meritve"
   ]
  },
  {
   "cell_type": "code",
   "execution_count": 6,
   "metadata": {},
   "outputs": [],
   "source": [
    "output_task = 'generiranje_signala'"
   ]
  },
  {
   "cell_type": "markdown",
   "metadata": {},
   "source": [
    "# Nastavitev generiranega signala vzbujanja"
   ]
  },
  {
   "cell_type": "markdown",
   "metadata": {},
   "source": [
    "Parametre preberemo iz pripravljenega \"task\"-a:"
   ]
  },
  {
   "cell_type": "code",
   "execution_count": 7,
   "metadata": {},
   "outputs": [],
   "source": [
    "o_task = DAQTask(output_task)\n",
    "fs_output = int(o_task.sample_rate)\n",
    "N_samples_output = int(o_task.samples_per_ch)\n",
    "o_task.clear_task(wait_until_done=False)"
   ]
  },
  {
   "cell_type": "code",
   "execution_count": 8,
   "metadata": {},
   "outputs": [
    {
     "name": "stdout",
     "output_type": "stream",
     "text": [
      "20000 100000\n"
     ]
    }
   ],
   "source": [
    "print(fs_output, N_samples_output)"
   ]
  },
  {
   "cell_type": "markdown",
   "metadata": {},
   "source": [
    "V primeru napake `DuplicateTaskError`pred odpiranjem novega taska zaprite obstoječega z:"
   ]
  },
  {
   "cell_type": "code",
   "execution_count": 9,
   "metadata": {},
   "outputs": [],
   "source": [
    "o_task.clear_task(wait_until_done=False)"
   ]
  },
  {
   "cell_type": "markdown",
   "metadata": {},
   "source": [
    "## Priprava naključnega signala za generiranje"
   ]
  },
  {
   "cell_type": "markdown",
   "metadata": {},
   "source": [
    "Uporabimo paket [pyExSi](https://pypi.org/project/pyExSi/):"
   ]
  },
  {
   "cell_type": "code",
   "execution_count": 10,
   "metadata": {},
   "outputs": [],
   "source": [
    "import pyExSi as es"
   ]
  },
  {
   "cell_type": "markdown",
   "metadata": {},
   "source": [
    "Definicija profila vzbujanja - enostranske PSD generiranega signala:"
   ]
  },
  {
   "cell_type": "code",
   "execution_count": 11,
   "metadata": {},
   "outputs": [],
   "source": [
    "t_out = np.arange(0, N_samples_output) / fs_output"
   ]
  },
  {
   "cell_type": "markdown",
   "metadata": {},
   "source": [
    "# IO funkcija"
   ]
  },
  {
   "cell_type": "code",
   "execution_count": 16,
   "metadata": {},
   "outputs": [],
   "source": [
    "def random(time=t_out, f0=5, f1=1000):\n",
    "\n",
    "    freq = np.fft.rfftfreq(N_samples_output, 1/fs_output)\n",
    "\n",
    "    freq_lower = f0 # spodnja frekvenčna meja PSD [Hz]\n",
    "    freq_upper = f1 # zgornja frekvenčna meja PSD [Hz]\n",
    "\n",
    "    PSD = es.get_psd(freq, freq_lower, freq_upper) # one-sided flat-shaped PSD\n",
    "\n",
    "    output_signal = es.random_gaussian(N_samples_output, PSD, fs_output) \n",
    "    output_signal = output_signal / np.max(np.abs(output_signal)) * 0.9 # normiranje max. amplitude > 0.9 V\n",
    "\n",
    "    trigger_signal = np.zeros_like(output_signal)\n",
    "    trigger_signal[:int(fs_output*0.5)] = 3.\n",
    "    \n",
    "    output_data = np.vstack([output_signal, trigger_signal])\n",
    "    \n",
    "    o_task = DAQTask(output_task)\n",
    "    try:\n",
    "        o_task.generate(output_data, clear_task=False) # generiranje signala\n",
    "\n",
    "        # Konec meritve\n",
    "        o_task.clear_task(wait_until_done=True)\n",
    "\n",
    "        # Generiranje praznega signala\n",
    "        o_task_clear = DAQTask(output_task)\n",
    "        o_task_clear.generate(1e-10*np.ones_like(output_data), clear_task=False)\n",
    "        o_task_clear.clear_task(wait_until_done=False)\n",
    "    \n",
    "    # Prikaz napake, če se merilna zanka predčasno ustavi\n",
    "    except Exception as e:\n",
    "        print(f'NAPAKA:\\n\\t{e}\\n')\n",
    "        o_task.clear_task(wait_until_done=False)\n",
    "        return None"
   ]
  },
  {
   "cell_type": "code",
   "execution_count": 12,
   "metadata": {},
   "outputs": [],
   "source": [
    "def prelet(time=t_out, f0=5, f1=1000, mode='logarithmic'):\n",
    "    output_signal = es.sine_sweep(time=time, freq_start=f0, freq_stop=f1, mode=mode)\n",
    "    output_signal = output_signal / np.max(np.abs(output_signal)) * 0.9 # normiranje max. amplitude > 0.9 V\n",
    "\n",
    "    trigger_signal = np.zeros_like(output_signal)\n",
    "    trigger_signal[:int(fs_output*0.5)] = 3.\n",
    "    \n",
    "    output_data = np.vstack([output_signal, trigger_signal])\n",
    "    \n",
    "    o_task = DAQTask(output_task)\n",
    "    try:\n",
    "        o_task.generate(output_data, clear_task=False) # generiranje signala\n",
    "\n",
    "        # Konec meritve\n",
    "        o_task.clear_task(wait_until_done=True)\n",
    "\n",
    "        # Generiranje praznega signala\n",
    "        o_task_clear = DAQTask(output_task)\n",
    "        o_task_clear.generate(1e-10*np.ones_like(output_data), clear_task=False)\n",
    "        o_task_clear.clear_task(wait_until_done=False)\n",
    "    \n",
    "    # Prikaz napake, če se merilna zanka predčasno ustavi\n",
    "    except Exception as e:\n",
    "        print(f'NAPAKA:\\n\\t{e}\\n')\n",
    "        o_task.clear_task(wait_until_done=False)\n",
    "        return None"
   ]
  },
  {
   "cell_type": "code",
   "execution_count": 13,
   "metadata": {},
   "outputs": [],
   "source": [
    "def sine(time=t_out, f=100):\n",
    "    output_signal = np.sin(2*np.pi*time * f)\n",
    "    output_signal = output_signal / np.max(np.abs(output_signal)) * 0.9 # normiranje max. amplitude > 0.9 V\n",
    "\n",
    "    trigger_signal = np.zeros_like(output_signal)\n",
    "    trigger_signal[:int(fs_output*0.5)] = 3.\n",
    "\n",
    "    output_data = np.vstack([output_signal, trigger_signal])\n",
    "\n",
    "    o_task = DAQTask(output_task)\n",
    "    try:\n",
    "        o_task.generate(output_data, clear_task=False) # generirranje signala\n",
    "\n",
    "        # Konec meritve\n",
    "        o_task.clear_task(wait_until_done=True)\n",
    "\n",
    "        # Generiranje praznega signala\n",
    "        o_task_clear = DAQTask(output_task)\n",
    "        o_task_clear.generate(1e-10*np.ones_like(output_data), clear_task=False)\n",
    "        o_task_clear.clear_task(wait_until_done=False)\n",
    "    \n",
    "    # Prikaz napake, če se merilna zanka predčasno ustavi\n",
    "    except Exception as e:\n",
    "        print(f'NAPAKA:\\n\\t{e}\\n')\n",
    "        o_task.clear_task(wait_until_done=False)\n",
    "        return None"
   ]
  },
  {
   "cell_type": "markdown",
   "metadata": {},
   "source": [
    "# Meritev"
   ]
  },
  {
   "cell_type": "code",
   "execution_count": 17,
   "metadata": {},
   "outputs": [],
   "source": [
    "random(t_out, 10, 1000)"
   ]
  },
  {
   "cell_type": "code",
   "execution_count": 22,
   "metadata": {},
   "outputs": [
    {
     "name": "stdout",
     "output_type": "stream",
     "text": [
      "0.8999999991119885 3.0 <class 'numpy.ndarray'> float64 (2, 100000)\n"
     ]
    },
    {
     "data": {
      "image/png": "[encoded data removed]",
      "text/plain": [
       "<Figure size 640x480 with 1 Axes>"
      ]
     },
     "metadata": {},
     "output_type": "display_data"
    }
   ],
   "source": [
    "prelet(t_out, 10, 1000)"
   ]
  },
  {
   "cell_type": "code",
   "execution_count": 40,
   "metadata": {},
   "outputs": [],
   "source": [
    "sine(t_out, 1)"
   ]
  },
  {
   "cell_type": "code",
   "execution_count": null,
   "metadata": {},
   "outputs": [],
   "source": []
  }
 ],
 "metadata": {
  "kernelspec": {
   "display_name": "Python 3 (ipykernel)",
   "language": "python",
   "name": "python3"
  },
  "language_info": {
   "codemirror_mode": {
    "name": "ipython",
    "version": 3
   },
   "file_extension": ".py",
   "mimetype": "text/x-python",
   "name": "python",
   "nbconvert_exporter": "python",
   "pygments_lexer": "ipython3",
   "version": "3.12.4"
  },
  "toc": {
   "base_numbering": 1,
   "nav_menu": {},
   "number_sections": true,
   "sideBar": true,
   "skip_h1_title": false,
   "title_cell": "Table of Contents",
   "title_sidebar": "Contents",
   "toc_cell": false,
   "toc_position": {},
   "toc_section_display": true,
   "toc_window_display": false
  }
 },
 "nbformat": 4,
 "nbformat_minor": 4
}
