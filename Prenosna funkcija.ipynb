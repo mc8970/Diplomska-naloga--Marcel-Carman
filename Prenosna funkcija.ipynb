{
 "cells": [
  {
   "cell_type": "code",
   "execution_count": 1,
   "metadata": {},
   "outputs": [],
   "source": [
    "from scipy.signal import csd\n",
    "import numpy as np\n",
    "import matplotlib.pyplot as plt\n",
    "import lvm_read\n",
    "import glob"
   ]
  },
  {
   "cell_type": "code",
   "execution_count": 2,
   "metadata": {},
   "outputs": [],
   "source": [
    "%matplotlib tk"
   ]
  },
  {
   "cell_type": "code",
   "execution_count": 3,
   "metadata": {},
   "outputs": [
    {
     "name": "stdout",
     "output_type": "stream",
     "text": [
      "0 5_nosilec_L_random.lvm\n",
      "1 5_nosilec_M_prelet.lvm\n",
      "2 5_nosilec_M_random.lvm\n",
      "3 5_nosilec_S_prelet.lvm\n",
      "4 5_nosilec_S_random.lvm\n",
      "5 5_nosilec_S_random1.lvm\n",
      "6 5_nosilec_vpet_L_random.lvm\n",
      "7 5_nosilec_vpet_M.lvm\n",
      "8 5_nosilec_vpet_S_random.lvm\n"
     ]
    }
   ],
   "source": [
    "datoteke = glob.glob('*.lvm')\n",
    "for i, j in enumerate(datoteke):\n",
    "    print(f'{i} {j}')"
   ]
  },
  {
   "cell_type": "code",
   "execution_count": 9,
   "metadata": {},
   "outputs": [
    {
     "name": "stdout",
     "output_type": "stream",
     "text": [
      "5_nosilec_vpet_S_random.lvm\n"
     ]
    }
   ],
   "source": [
    "izbrana_datoteka = datoteke[8]\n",
    "print(izbrana_datoteka)\n",
    "prebrana = lvm_read.read(izbrana_datoteka, False)"
   ]
  },
  {
   "cell_type": "code",
   "execution_count": 10,
   "metadata": {},
   "outputs": [
    {
     "data": {
      "text/plain": [
       "1"
      ]
     },
     "execution_count": 10,
     "metadata": {},
     "output_type": "execute_result"
    }
   ],
   "source": [
    "prebrana['Segments']"
   ]
  },
  {
   "cell_type": "code",
   "execution_count": 11,
   "metadata": {},
   "outputs": [
    {
     "data": {
      "text/plain": [
       "['Volts', 'm/s', 'm/s^2', '']"
      ]
     },
     "execution_count": 11,
     "metadata": {},
     "output_type": "execute_result"
    }
   ],
   "source": [
    "prebrana[0]['Y_Unit_Label']"
   ]
  },
  {
   "cell_type": "code",
   "execution_count": 12,
   "metadata": {},
   "outputs": [],
   "source": [
    "dt = prebrana[0]['Delta_X'][0]\n",
    "fs = 1 / dt"
   ]
  },
  {
   "cell_type": "code",
   "execution_count": 13,
   "metadata": {},
   "outputs": [],
   "source": [
    "data = prebrana[0]['data']\n",
    "čas, sprožilec, hitrost, sila = data.T"
   ]
  },
  {
   "cell_type": "code",
   "execution_count": 14,
   "metadata": {},
   "outputs": [
    {
     "data": {
      "text/plain": [
       "<matplotlib.legend.Legend at 0x2374f2f4650>"
      ]
     },
     "execution_count": 14,
     "metadata": {},
     "output_type": "execute_result"
    }
   ],
   "source": [
    "plt.plot(čas, hitrost, label='hitrost')\n",
    "plt.plot(čas, sila, label='sila')\n",
    "plt.xlabel('Čas [s]')\n",
    "plt.ylabel('Odziv')\n",
    "plt.legend()"
   ]
  },
  {
   "cell_type": "code",
   "execution_count": 15,
   "metadata": {},
   "outputs": [
    {
     "data": {
      "text/plain": [
       "(128000, 4)"
      ]
     },
     "execution_count": 15,
     "metadata": {},
     "output_type": "execute_result"
    }
   ],
   "source": [
    "data.shape"
   ]
  },
  {
   "cell_type": "code",
   "execution_count": 16,
   "metadata": {},
   "outputs": [],
   "source": [
    "def FRF(x, f, window='hann', nperseg=int(fs*2)):\n",
    "    print(x.shape, f.shape)\n",
    "    freq, S_fx = csd(f, x, fs=fs, window=window, nperseg=nperseg)\n",
    "    freq, S_ff = csd(f, f, fs=fs, window=window, nperseg=nperseg)\n",
    "    H1 = S_fx / S_ff\n",
    "\n",
    "    return freq, H1"
   ]
  },
  {
   "cell_type": "code",
   "execution_count": 19,
   "metadata": {},
   "outputs": [
    {
     "name": "stdout",
     "output_type": "stream",
     "text": [
      "(128000,) (128000,)\n"
     ]
    }
   ],
   "source": [
    "freq, frf = FRF(hitrost, sila, nperseg=int(fs))\n",
    "plt.semilogy(freq, np.abs(frf), label='Odziv')\n",
    "plt.grid()\n",
    "plt.xlim(0, 1500)\n",
    "plt.xlabel('Frekvenca [Hz]')\n",
    "plt.ylabel('Odziv nosilca normiran na pospešek [/]')\n",
    "plt.title('Obratovalna modalna analiza za vpet nosilec 5x5 mm L=250mm')\n",
    "plt.legend()\n",
    "plt.show()"
   ]
  },
  {
   "cell_type": "code",
   "execution_count": null,
   "metadata": {},
   "outputs": [],
   "source": []
  },
  {
   "cell_type": "code",
   "execution_count": null,
   "metadata": {},
   "outputs": [],
   "source": []
  }
 ],
 "metadata": {
  "kernelspec": {
   "display_name": "venv",
   "language": "python",
   "name": "python3"
  },
  "language_info": {
   "codemirror_mode": {
    "name": "ipython",
    "version": 3
   },
   "file_extension": ".py",
   "mimetype": "text/x-python",
   "name": "python",
   "nbconvert_exporter": "python",
   "pygments_lexer": "ipython3",
   "version": "3.11.9"
  }
 },
 "nbformat": 4,
 "nbformat_minor": 2
}
